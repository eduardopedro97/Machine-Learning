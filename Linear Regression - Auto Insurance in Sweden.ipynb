{
 "cells": [
  {
   "cell_type": "markdown",
   "metadata": {},
   "source": [
    "# Linear Regression - Auto Insurance in Sweden"
   ]
  },
  {
   "cell_type": "markdown",
   "metadata": {},
   "source": [
    "This is a simple example of linear regression in the context of machine learning, using the \"Auto Insurance in Sweden\" dataset. The dataset is really simple, with 1 target variable and 1 feature variable. These are:\n",
    "* **claims:** The number of claims made;\n",
    "* **payment:** Total payment for all the claims in thousands of Swedish Kronor.\n",
    "\n",
    "**obs:** The goal here is to show some simple concepts of machine learning using linear regression (and Python). Do not expect verification of theorical assumptions, residues analysis etc."
   ]
  },
  {
   "cell_type": "code",
   "execution_count": 1,
   "metadata": {},
   "outputs": [],
   "source": [
    "#Initial Imports\n",
    "import numpy as np\n",
    "import pandas as pd\n",
    "import matplotlib.pyplot as plt\n",
    "import seaborn as sns; sns.set()"
   ]
  },
  {
   "cell_type": "code",
   "execution_count": 2,
   "metadata": {},
   "outputs": [
    {
     "data": {
      "text/html": [
       "<div>\n",
       "<style scoped>\n",
       "    .dataframe tbody tr th:only-of-type {\n",
       "        vertical-align: middle;\n",
       "    }\n",
       "\n",
       "    .dataframe tbody tr th {\n",
       "        vertical-align: top;\n",
       "    }\n",
       "\n",
       "    .dataframe thead th {\n",
       "        text-align: right;\n",
       "    }\n",
       "</style>\n",
       "<table border=\"1\" class=\"dataframe\">\n",
       "  <thead>\n",
       "    <tr style=\"text-align: right;\">\n",
       "      <th></th>\n",
       "      <th>claims</th>\n",
       "      <th>payment</th>\n",
       "    </tr>\n",
       "  </thead>\n",
       "  <tbody>\n",
       "    <tr>\n",
       "      <td>0</td>\n",
       "      <td>108</td>\n",
       "      <td>392.5</td>\n",
       "    </tr>\n",
       "    <tr>\n",
       "      <td>1</td>\n",
       "      <td>19</td>\n",
       "      <td>46.2</td>\n",
       "    </tr>\n",
       "    <tr>\n",
       "      <td>2</td>\n",
       "      <td>13</td>\n",
       "      <td>15.7</td>\n",
       "    </tr>\n",
       "    <tr>\n",
       "      <td>3</td>\n",
       "      <td>124</td>\n",
       "      <td>422.2</td>\n",
       "    </tr>\n",
       "    <tr>\n",
       "      <td>4</td>\n",
       "      <td>40</td>\n",
       "      <td>119.4</td>\n",
       "    </tr>\n",
       "  </tbody>\n",
       "</table>\n",
       "</div>"
      ],
      "text/plain": [
       "   claims  payment\n",
       "0     108    392.5\n",
       "1      19     46.2\n",
       "2      13     15.7\n",
       "3     124    422.2\n",
       "4      40    119.4"
      ]
     },
     "execution_count": 2,
     "metadata": {},
     "output_type": "execute_result"
    }
   ],
   "source": [
    "#Importing the data and looking at the variables\n",
    "df = pd.read_table('C:/Users/Eduardo/Documents/Acadêmicos/Bases de Dados/Auto Insurance in Sweden.txt', decimal = ',')\n",
    "df.head()"
   ]
  },
  {
   "cell_type": "code",
   "execution_count": 3,
   "metadata": {},
   "outputs": [
    {
     "data": {
      "text/plain": [
       "claims     0\n",
       "payment    0\n",
       "dtype: int64"
      ]
     },
     "execution_count": 3,
     "metadata": {},
     "output_type": "execute_result"
    }
   ],
   "source": [
    "#Verifying for null values\n",
    "df.isnull().sum()"
   ]
  },
  {
   "cell_type": "markdown",
   "metadata": {},
   "source": [
    "## Exploratory Data Analysis"
   ]
  },
  {
   "cell_type": "code",
   "execution_count": 4,
   "metadata": {},
   "outputs": [
    {
     "data": {
      "text/plain": [
       "(63, 2)"
      ]
     },
     "execution_count": 4,
     "metadata": {},
     "output_type": "execute_result"
    }
   ],
   "source": [
    "#dimensions of the dataset\n",
    "df.shape"
   ]
  },
  {
   "cell_type": "markdown",
   "metadata": {},
   "source": [
    "We got 63 samples and 2 variables (1 target, 1 feature)"
   ]
  },
  {
   "cell_type": "code",
   "execution_count": 5,
   "metadata": {},
   "outputs": [
    {
     "data": {
      "text/html": [
       "<div>\n",
       "<style scoped>\n",
       "    .dataframe tbody tr th:only-of-type {\n",
       "        vertical-align: middle;\n",
       "    }\n",
       "\n",
       "    .dataframe tbody tr th {\n",
       "        vertical-align: top;\n",
       "    }\n",
       "\n",
       "    .dataframe thead th {\n",
       "        text-align: right;\n",
       "    }\n",
       "</style>\n",
       "<table border=\"1\" class=\"dataframe\">\n",
       "  <thead>\n",
       "    <tr style=\"text-align: right;\">\n",
       "      <th></th>\n",
       "      <th>claims</th>\n",
       "      <th>payment</th>\n",
       "    </tr>\n",
       "  </thead>\n",
       "  <tbody>\n",
       "    <tr>\n",
       "      <td>count</td>\n",
       "      <td>63.000000</td>\n",
       "      <td>63.000000</td>\n",
       "    </tr>\n",
       "    <tr>\n",
       "      <td>mean</td>\n",
       "      <td>22.904762</td>\n",
       "      <td>98.187302</td>\n",
       "    </tr>\n",
       "    <tr>\n",
       "      <td>std</td>\n",
       "      <td>23.351946</td>\n",
       "      <td>87.327553</td>\n",
       "    </tr>\n",
       "    <tr>\n",
       "      <td>min</td>\n",
       "      <td>0.000000</td>\n",
       "      <td>0.000000</td>\n",
       "    </tr>\n",
       "    <tr>\n",
       "      <td>25%</td>\n",
       "      <td>7.500000</td>\n",
       "      <td>38.850000</td>\n",
       "    </tr>\n",
       "    <tr>\n",
       "      <td>50%</td>\n",
       "      <td>14.000000</td>\n",
       "      <td>73.400000</td>\n",
       "    </tr>\n",
       "    <tr>\n",
       "      <td>75%</td>\n",
       "      <td>29.000000</td>\n",
       "      <td>140.000000</td>\n",
       "    </tr>\n",
       "    <tr>\n",
       "      <td>max</td>\n",
       "      <td>124.000000</td>\n",
       "      <td>422.200000</td>\n",
       "    </tr>\n",
       "  </tbody>\n",
       "</table>\n",
       "</div>"
      ],
      "text/plain": [
       "           claims     payment\n",
       "count   63.000000   63.000000\n",
       "mean    22.904762   98.187302\n",
       "std     23.351946   87.327553\n",
       "min      0.000000    0.000000\n",
       "25%      7.500000   38.850000\n",
       "50%     14.000000   73.400000\n",
       "75%     29.000000  140.000000\n",
       "max    124.000000  422.200000"
      ]
     },
     "execution_count": 5,
     "metadata": {},
     "output_type": "execute_result"
    }
   ],
   "source": [
    "#A summary of the dataset\n",
    "df.describe()"
   ]
  },
  {
   "cell_type": "markdown",
   "metadata": {},
   "source": [
    "Some conclusions dropped by the describe method above were:\n",
    "* The calculated means from 'claims' and 'payment' were 22.9 and 98.19, respectively;\n",
    "* 25% of the claims and the payments were below 7.5 and 38.85, respectively;\n",
    "* Half of the claims and the payments were below 14 and 73.4, respectively;\n",
    "* The 25% highest values of claims and payments were above 29 and 140, respectively;\n",
    "* The highest value of claims was 124, and the highest value of payment was 422.20."
   ]
  },
  {
   "cell_type": "markdown",
   "metadata": {},
   "source": [
    "By the nature of the variables, it is reasonable to considerer a positive linear relation between them. We can see this more precisely looking at the scatter plot below:"
   ]
  },
  {
   "cell_type": "code",
   "execution_count": 6,
   "metadata": {},
   "outputs": [
    {
     "data": {
      "text/plain": [
       "Text(0, 0.5, 'payment')"
      ]
     },
     "execution_count": 6,
     "metadata": {},
     "output_type": "execute_result"
    },
    {
     "data": {
      "image/png": "[encoded data removed]",
      "text/plain": [
       "<Figure size 720x576 with 1 Axes>"
      ]
     },
     "metadata": {
      "needs_background": "light"
     },
     "output_type": "display_data"
    }
   ],
   "source": [
    "fig, ax = plt.subplots(1, 1, figsize = (10, 8))\n",
    "\n",
    "ax.scatter(df.claims, df.payment)\n",
    "ax.set_title(\"Claims x Payment\", fontsize = 20)\n",
    "ax.set_xlabel(\"claims\", fontsize = 15)\n",
    "ax.set_ylabel(\"payment\", fontsize = 15)"
   ]
  },
  {
   "cell_type": "markdown",
   "metadata": {},
   "source": [
    "We can see that there is a concentration of points relatively linear distributed on the first half of the x-axis. The correlation between the two variables are:"
   ]
  },
  {
   "cell_type": "code",
   "execution_count": 7,
   "metadata": {},
   "outputs": [
    {
     "name": "stdout",
     "output_type": "stream",
     "text": [
      "The calculated correlation was 0.9128782350234067, with a pvalue of 2.046637844952289e-25\n"
     ]
    }
   ],
   "source": [
    "from scipy.stats import pearsonr\n",
    "r, pvalue = pearsonr(df.claims, df.payment)\n",
    "print(\"The calculated correlation was {}, with a pvalue of {}\".format(r, pvalue))"
   ]
  },
  {
   "cell_type": "markdown",
   "metadata": {},
   "source": [
    "The Pearson coefficient of correlation showed us that there is a strong linear correlation between the variables."
   ]
  },
  {
   "cell_type": "markdown",
   "metadata": {},
   "source": [
    "## Linear Regression Model"
   ]
  },
  {
   "cell_type": "markdown",
   "metadata": {},
   "source": [
    "Here we decided to fit the intercept to the model, however the best way to decide how to use the hyperparameters of each model is through research, where we can use tools like grid search to maximize the results.\n",
    "\n",
    "In order to obtain more accurate results, usually the holdout or cross validation methods can be used. The holdout method is based on the division of the data set in 2 sets: the training set and the test set. It is not advisible to train and test the models on the same data, because in doing so, we are biasing the results making the model predict on data already known by it. Using the splitted data we are able to train the model on the training set (usually 75% or 80% of the data) and then make predictions on the test set (unknown by the model), in order to see the power of generalization of the model.\n",
    "\n",
    "**Obs:** The Cross-Validation method is a generalization of the holdout method. It is also based on the splitting of the data, however it occours multiple times (usually 5 or 10), considering different schemes of splitting each time, so at the end of the process we can calculate the mean of the performance metrics, minimizing the variation of the results. This method is preferable to the holdout\n",
    "\n",
    "To train our linear model, we can use sci-kit learn tools such as the LinearRegression class and the 'train_test_split' method:"
   ]
  },
  {
   "cell_type": "markdown",
   "metadata": {},
   "source": [
    "### Fitting and Predicting"
   ]
  },
  {
   "cell_type": "code",
   "execution_count": 8,
   "metadata": {},
   "outputs": [],
   "source": [
    "#Instanciating process\n",
    "from sklearn.linear_model import LinearRegression\n",
    "from sklearn.model_selection import train_test_split\n",
    "\n",
    "model = LinearRegression(fit_intercept = True)"
   ]
  },
  {
   "cell_type": "code",
   "execution_count": 9,
   "metadata": {},
   "outputs": [],
   "source": [
    "#spliting the data set to use the holdout technique\n",
    "Xtrain, Xtest, ytrain, ytest = train_test_split(df.claims[:, np.newaxis], df.payment, train_size = 0.75, random_state=97)"
   ]
  },
  {
   "cell_type": "code",
   "execution_count": 10,
   "metadata": {},
   "outputs": [
    {
     "name": "stdout",
     "output_type": "stream",
     "text": [
      "[111.89088697  69.33120353  66.05738172  39.86680729 180.64114485\n",
      "  56.23591631  75.87884713  49.6882727   23.49769827 377.07045308\n",
      " 121.71235239 223.2008283   98.79559976  66.05738172  52.96209451\n",
      "  36.59298549]\n"
     ]
    }
   ],
   "source": [
    "#training the model and making predictions\n",
    "model.fit(Xtrain, ytrain)\n",
    "ypred = model.predict(Xtest)\n",
    "print(ypred)"
   ]
  },
  {
   "cell_type": "code",
   "execution_count": 11,
   "metadata": {},
   "outputs": [
    {
     "data": {
      "text/html": [
       "<div>\n",
       "<style scoped>\n",
       "    .dataframe tbody tr th:only-of-type {\n",
       "        vertical-align: middle;\n",
       "    }\n",
       "\n",
       "    .dataframe tbody tr th {\n",
       "        vertical-align: top;\n",
       "    }\n",
       "\n",
       "    .dataframe thead th {\n",
       "        text-align: right;\n",
       "    }\n",
       "</style>\n",
       "<table border=\"1\" class=\"dataframe\">\n",
       "  <thead>\n",
       "    <tr style=\"text-align: right;\">\n",
       "      <th></th>\n",
       "      <th>Observed</th>\n",
       "      <th>Predicted</th>\n",
       "    </tr>\n",
       "  </thead>\n",
       "  <tbody>\n",
       "    <tr>\n",
       "      <td>0</td>\n",
       "      <td>92.6</td>\n",
       "      <td>111.890887</td>\n",
       "    </tr>\n",
       "    <tr>\n",
       "      <td>1</td>\n",
       "      <td>95.5</td>\n",
       "      <td>69.331204</td>\n",
       "    </tr>\n",
       "    <tr>\n",
       "      <td>2</td>\n",
       "      <td>15.7</td>\n",
       "      <td>66.057382</td>\n",
       "    </tr>\n",
       "    <tr>\n",
       "      <td>3</td>\n",
       "      <td>40.3</td>\n",
       "      <td>39.866807</td>\n",
       "    </tr>\n",
       "    <tr>\n",
       "      <td>4</td>\n",
       "      <td>248.1</td>\n",
       "      <td>180.641145</td>\n",
       "    </tr>\n",
       "    <tr>\n",
       "      <td>5</td>\n",
       "      <td>65.3</td>\n",
       "      <td>56.235916</td>\n",
       "    </tr>\n",
       "    <tr>\n",
       "      <td>6</td>\n",
       "      <td>59.6</td>\n",
       "      <td>75.878847</td>\n",
       "    </tr>\n",
       "    <tr>\n",
       "      <td>7</td>\n",
       "      <td>55.6</td>\n",
       "      <td>49.688273</td>\n",
       "    </tr>\n",
       "    <tr>\n",
       "      <td>8</td>\n",
       "      <td>0.0</td>\n",
       "      <td>23.497698</td>\n",
       "    </tr>\n",
       "    <tr>\n",
       "      <td>9</td>\n",
       "      <td>392.5</td>\n",
       "      <td>377.070453</td>\n",
       "    </tr>\n",
       "    <tr>\n",
       "      <td>10</td>\n",
       "      <td>194.5</td>\n",
       "      <td>121.712352</td>\n",
       "    </tr>\n",
       "    <tr>\n",
       "      <td>11</td>\n",
       "      <td>217.6</td>\n",
       "      <td>223.200828</td>\n",
       "    </tr>\n",
       "    <tr>\n",
       "      <td>12</td>\n",
       "      <td>56.9</td>\n",
       "      <td>98.795600</td>\n",
       "    </tr>\n",
       "    <tr>\n",
       "      <td>13</td>\n",
       "      <td>31.9</td>\n",
       "      <td>66.057382</td>\n",
       "    </tr>\n",
       "    <tr>\n",
       "      <td>14</td>\n",
       "      <td>52.1</td>\n",
       "      <td>52.962095</td>\n",
       "    </tr>\n",
       "    <tr>\n",
       "      <td>15</td>\n",
       "      <td>12.6</td>\n",
       "      <td>36.592985</td>\n",
       "    </tr>\n",
       "  </tbody>\n",
       "</table>\n",
       "</div>"
      ],
      "text/plain": [
       "    Observed   Predicted\n",
       "0       92.6  111.890887\n",
       "1       95.5   69.331204\n",
       "2       15.7   66.057382\n",
       "3       40.3   39.866807\n",
       "4      248.1  180.641145\n",
       "5       65.3   56.235916\n",
       "6       59.6   75.878847\n",
       "7       55.6   49.688273\n",
       "8        0.0   23.497698\n",
       "9      392.5  377.070453\n",
       "10     194.5  121.712352\n",
       "11     217.6  223.200828\n",
       "12      56.9   98.795600\n",
       "13      31.9   66.057382\n",
       "14      52.1   52.962095\n",
       "15      12.6   36.592985"
      ]
     },
     "execution_count": 11,
     "metadata": {},
     "output_type": "execute_result"
    }
   ],
   "source": [
    "#Comparing the real values to the predicted values\n",
    "ytest.reset_index(drop = True, inplace = True)\n",
    "ypred = pd.Series(ypred)\n",
    "pd.Series(ypred).reset_index(drop=True, inplace = True)\n",
    "pd.concat([ytest.rename(\"Observed\"), ypred.rename(\"Predicted\")], axis=1)"
   ]
  },
  {
   "cell_type": "markdown",
   "metadata": {},
   "source": [
    "### Goodness of Fit"
   ]
  },
  {
   "cell_type": "markdown",
   "metadata": {},
   "source": [
    "The simplest way to see how good the model performed is through visualization. Plotting the observed values by the predicted values, if the model was well fitted, we expect the points to be linearly distributed. Let's see:"
   ]
  },
  {
   "cell_type": "code",
   "execution_count": 12,
   "metadata": {},
   "outputs": [
    {
     "data": {
      "text/plain": [
       "Text(0, 0.5, 'Observed Values')"
      ]
     },
     "execution_count": 12,
     "metadata": {},
     "output_type": "execute_result"
    },
    {
     "data": {
      "image/png": "[encoded data removed]",
      "text/plain": [
       "<Figure size 720x576 with 1 Axes>"
      ]
     },
     "metadata": {
      "needs_background": "light"
     },
     "output_type": "display_data"
    }
   ],
   "source": [
    "fig, ax = plt.subplots(1, 1, figsize = (10, 8))\n",
    "ax.scatter(ypred, ytest)\n",
    "ax.set_title(\"Predicted x Observed\", fontsize = 20)\n",
    "ax.set_xlabel(\"Predicted Values\", fontsize = 15)\n",
    "ax.set_ylabel(\"Observed Values\", fontsize = 15)"
   ]
  },
  {
   "cell_type": "code",
   "execution_count": 13,
   "metadata": {},
   "outputs": [
    {
     "name": "stdout",
     "output_type": "stream",
     "text": [
      "The coefficient estimated for claims was:3.2738218037150455\n",
      "The intercept estimated was:23.497698274134933\n"
     ]
    }
   ],
   "source": [
    "#The coefficients of the model\n",
    "print(\"The coefficient estimated for claims was:{}\".format(model.coef_[0]))\n",
    "print(\"The intercept estimated was:{}\".format(model.intercept_))"
   ]
  },
  {
   "cell_type": "markdown",
   "metadata": {},
   "source": [
    "From this estimated values, we conclude that:\n",
    "* If the total of claims were zero, the mean value of payment would be 23.5;\n",
    "* Increasing 1 claim increases the mean value of payment by 3.27."
   ]
  },
  {
   "cell_type": "markdown",
   "metadata": {},
   "source": [
    "#### Scores of Performance"
   ]
  },
  {
   "cell_type": "markdown",
   "metadata": {},
   "source": [
    "##### Coefficient of Determination"
   ]
  },
  {
   "cell_type": "markdown",
   "metadata": {},
   "source": [
    "In terms of linear regression, the coefficient of determination (R-squared) is the most known measure to evaluate the model. This score is based on how much variation of the target variable can be explained by the features (explanatory variables). \n",
    "\n",
    "The R-squared of our model says that about 80% of the variation of payments can be explained by the claims, as we can see below:"
   ]
  },
  {
   "cell_type": "code",
   "execution_count": 14,
   "metadata": {},
   "outputs": [
    {
     "data": {
      "text/plain": [
       "0.7958319420983757"
      ]
     },
     "execution_count": 14,
     "metadata": {},
     "output_type": "execute_result"
    }
   ],
   "source": [
    "#R-squared\n",
    "model.score(Xtrain, ytrain)"
   ]
  },
  {
   "cell_type": "markdown",
   "metadata": {},
   "source": [
    "##### Root Mean Squared Error and Mean Absolute Error"
   ]
  },
  {
   "cell_type": "markdown",
   "metadata": {},
   "source": [
    "These are two frequently used scores for analyze models and both are very similar. The big difference between them is that RMSE is based on the squared errors, while the MAE is based on the absolute value of the errors. Below, we can see the RMSE and MAE for our model:"
   ]
  },
  {
   "cell_type": "code",
   "execution_count": 15,
   "metadata": {},
   "outputs": [
    {
     "name": "stdout",
     "output_type": "stream",
     "text": [
      "The Root Mean Squared Error of the model was:33.67473101591244\n",
      "The Mean Absolute Error of the model was:25.824222108532012\n"
     ]
    }
   ],
   "source": [
    "from sklearn.metrics import mean_squared_error, mean_absolute_error\n",
    "\n",
    "print(\"The Root Mean Squared Error of the model was:{}\".format(np.sqrt(mean_squared_error(ytest, ypred))))\n",
    "print(\"The Mean Absolute Error of the model was:{}\".format(mean_absolute_error(ytest, ypred)))"
   ]
  },
  {
   "cell_type": "markdown",
   "metadata": {},
   "source": [
    "##### RMSE and MAE (Cross-validation)"
   ]
  },
  {
   "cell_type": "markdown",
   "metadata": {},
   "source": [
    "As said before, the cross-validation method is used to reduce the variance of the score functions applied to the model. using the cross_val_score method from sci-kit learn, we can take a look at the mean of RMSE from a 10-folds procedure:"
   ]
  },
  {
   "cell_type": "code",
   "execution_count": 16,
   "metadata": {},
   "outputs": [
    {
     "name": "stdout",
     "output_type": "stream",
     "text": [
      "35.63417900629122\n",
      "30.69747735521605\n"
     ]
    }
   ],
   "source": [
    "from sklearn.model_selection import cross_val_score\n",
    "\n",
    "print(np.sqrt(-cross_val_score(model, df.claims[:, np.newaxis], df.payment, cv = 10,\n",
    "               scoring = 'neg_mean_squared_error')).mean())\n",
    "\n",
    "print(-cross_val_score(model, df.claims[:, np.newaxis], df.payment, cv = 10,\n",
    "               scoring = 'neg_mean_absolute_error').mean())"
   ]
  },
  {
   "cell_type": "markdown",
   "metadata": {},
   "source": [
    "We can see that the mean of RMSE from a 10-fold cross-validation is a bit higher than the result found considering the holdout."
   ]
  },
  {
   "cell_type": "markdown",
   "metadata": {},
   "source": [
    "#### Learning Curve"
   ]
  },
  {
   "cell_type": "markdown",
   "metadata": {},
   "source": [
    "The learning curve is a tool to investigate what happens to the performance score of the model if we add more training samples, and to verify the contrast between variance and bias. Using sci-kit learn, we can build a learning curve in the following way:"
   ]
  },
  {
   "cell_type": "code",
   "execution_count": 17,
   "metadata": {},
   "outputs": [
    {
     "name": "stdout",
     "output_type": "stream",
     "text": [
      "[learning_curve] Training set sizes: [ 1  2  4  6  8 10 12 13 15 17 19 21 23 25 27 29 31 33 34 36 38 40 42 44\n",
      " 46 48 50 52 54 56]\n"
     ]
    },
    {
     "name": "stderr",
     "output_type": "stream",
     "text": [
      "[Parallel(n_jobs=1)]: Using backend SequentialBackend with 1 concurrent workers.\n",
      "[Parallel(n_jobs=1)]: Done 300 out of 300 | elapsed:    3.3s finished\n"
     ]
    },
    {
     "data": {
      "text/plain": [
       "Text(0, 0.5, 'Root Mean Squared Error')"
      ]
     },
     "execution_count": 17,
     "metadata": {},
     "output_type": "execute_result"
    },
    {
     "data": {
      "image/png": "[encoded data removed]",
      "text/plain": [
       "<Figure size 720x576 with 1 Axes>"
      ]
     },
     "metadata": {
      "needs_background": "light"
     },
     "output_type": "display_data"
    }
   ],
   "source": [
    "from sklearn.model_selection import learning_curve\n",
    "\n",
    "train_sizes, train_scores, test_scores = learning_curve(model, \n",
    "                                                       df.claims[:, np.newaxis], df.payment, cv = 10,\n",
    "                                                       train_sizes = np.linspace(0.01, 1, 30),\n",
    "                                                       scoring = 'neg_mean_squared_error', verbose = 1)\n",
    "\n",
    "#print(train_sizes)\n",
    "#print(np.sqrt(-train_scores))\n",
    "#print(np.sqrt(-test_scores))\n",
    "\n",
    "train_mean = np.sqrt(-np.mean(train_scores, axis =1))\n",
    "test_mean = np.sqrt(-np.mean(test_scores, axis = 1))\n",
    "\n",
    "#Graphics\n",
    "fig, ax = plt.subplots(1, 1, figsize = (10, 8))\n",
    "ax.plot(train_sizes, train_mean)\n",
    "ax.plot(train_sizes, test_mean)\n",
    "ax.set_title(\"Learning Curve\")\n",
    "ax.set_xlabel(\"Training Samples\")\n",
    "ax.set_ylabel(\"Root Mean Squared Error\")"
   ]
  },
  {
   "cell_type": "markdown",
   "metadata": {},
   "source": [
    "We can see from the plot that the RMSE of the test set starts at something about 300, but it decrease as the amount of training samples increases, getting closer and closer to the training curve. Sometimes it is not possible to collect or use a big amount of data, so the learning curve can be used to decide a \"good\" and possible number of training samples."
   ]
  }
 ],
 "metadata": {
  "kernelspec": {
   "display_name": "Python 3",
   "language": "python",
   "name": "python3"
  },
  "language_info": {
   "codemirror_mode": {
    "name": "ipython",
    "version": 3
   },
   "file_extension": ".py",
   "mimetype": "text/x-python",
   "name": "python",
   "nbconvert_exporter": "python",
   "pygments_lexer": "ipython3",
   "version": "3.7.4"
  }
 },
 "nbformat": 4,
 "nbformat_minor": 2
}
