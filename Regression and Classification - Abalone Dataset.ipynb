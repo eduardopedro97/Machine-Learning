{
 "cells": [
  {
   "cell_type": "markdown",
   "metadata": {},
   "source": [
    "# Regression"
   ]
  },
  {
   "cell_type": "markdown",
   "metadata": {},
   "source": [
    "The main task of this dataset is a regression task of predicting the age of abalone from from its physical measurements. Abalone is a genus of marine gastropod mollusks in the family Haliotidae and the only cataloged genus of this family. It is very enjoyed in Asian cuisine, and its age is determined by cutting the shell through the cone, staining it, and counting the number of rings through a microscope.\n",
    "\n",
    "The description of the variables is:\n",
    "* **Sex:** M, F, and I (infant);\n",
    "* **Length:** Longest shell measurement;\n",
    "* **Diameter:** perpendicular to length;\n",
    "* **Height:** with meat in shell;\n",
    "* **Whole weight:** whole abalone;\n",
    "* **Shucked weight:** weight of meat;\n",
    "* **Viscera weight:** gut weight (after bleeding);\n",
    "* **Shell weight:** after being dried;\n",
    "* **Rings:** +1.5 gives the age in years."
   ]
  },
  {
   "cell_type": "code",
   "execution_count": 1,
   "metadata": {},
   "outputs": [],
   "source": [
    "#Inicial Imports\n",
    "import numpy as np\n",
    "import pandas as pd\n",
    "import matplotlib.pyplot as plt\n",
    "import seaborn as sns; sns.set()\n",
    "\n",
    "%matplotlib inline"
   ]
  },
  {
   "cell_type": "code",
   "execution_count": 2,
   "metadata": {},
   "outputs": [],
   "source": [
    "#Dataset header\n",
    "names = ['Sex', 'Length', 'Diameter', \"Height\", 'Whole_weight', \n",
    "         'Shucked_weight', 'Viscera_weight', 'Shell_weight', \"Rings\"]"
   ]
  },
  {
   "cell_type": "code",
   "execution_count": 3,
   "metadata": {},
   "outputs": [],
   "source": [
    "#Importing the data\n",
    "abalone = pd.read_table(\"C:/Users/Eduardo/Documents/Acadêmicos/Bases de Dados/abalone.DATA\", \n",
    "                        names = names, delimiter = ',')"
   ]
  },
  {
   "cell_type": "markdown",
   "metadata": {},
   "source": [
    "## Preprocessing"
   ]
  },
  {
   "cell_type": "markdown",
   "metadata": {},
   "source": [
    "The abalone dataset is defined by 4177 instances and 9 columns (1 target and 8 features):"
   ]
  },
  {
   "cell_type": "code",
   "execution_count": 4,
   "metadata": {},
   "outputs": [
    {
     "data": {
      "text/plain": [
       "(4177, 9)"
      ]
     },
     "execution_count": 4,
     "metadata": {},
     "output_type": "execute_result"
    }
   ],
   "source": [
    "#shape of the database\n",
    "abalone.shape"
   ]
  },
  {
   "cell_type": "markdown",
   "metadata": {},
   "source": [
    "Let's take a quick look at the first five instances of our dataset:"
   ]
  },
  {
   "cell_type": "code",
   "execution_count": 5,
   "metadata": {},
   "outputs": [
    {
     "data": {
      "text/html": [
       "<div>\n",
       "<style scoped>\n",
       "    .dataframe tbody tr th:only-of-type {\n",
       "        vertical-align: middle;\n",
       "    }\n",
       "\n",
       "    .dataframe tbody tr th {\n",
       "        vertical-align: top;\n",
       "    }\n",
       "\n",
       "    .dataframe thead th {\n",
       "        text-align: right;\n",
       "    }\n",
       "</style>\n",
       "<table border=\"1\" class=\"dataframe\">\n",
       "  <thead>\n",
       "    <tr style=\"text-align: right;\">\n",
       "      <th></th>\n",
       "      <th>Sex</th>\n",
       "      <th>Length</th>\n",
       "      <th>Diameter</th>\n",
       "      <th>Height</th>\n",
       "      <th>Whole_weight</th>\n",
       "      <th>Shucked_weight</th>\n",
       "      <th>Viscera_weight</th>\n",
       "      <th>Shell_weight</th>\n",
       "      <th>Rings</th>\n",
       "    </tr>\n",
       "  </thead>\n",
       "  <tbody>\n",
       "    <tr>\n",
       "      <td>0</td>\n",
       "      <td>M</td>\n",
       "      <td>0.455</td>\n",
       "      <td>0.365</td>\n",
       "      <td>0.095</td>\n",
       "      <td>0.5140</td>\n",
       "      <td>0.2245</td>\n",
       "      <td>0.1010</td>\n",
       "      <td>0.150</td>\n",
       "      <td>15</td>\n",
       "    </tr>\n",
       "    <tr>\n",
       "      <td>1</td>\n",
       "      <td>M</td>\n",
       "      <td>0.350</td>\n",
       "      <td>0.265</td>\n",
       "      <td>0.090</td>\n",
       "      <td>0.2255</td>\n",
       "      <td>0.0995</td>\n",
       "      <td>0.0485</td>\n",
       "      <td>0.070</td>\n",
       "      <td>7</td>\n",
       "    </tr>\n",
       "    <tr>\n",
       "      <td>2</td>\n",
       "      <td>F</td>\n",
       "      <td>0.530</td>\n",
       "      <td>0.420</td>\n",
       "      <td>0.135</td>\n",
       "      <td>0.6770</td>\n",
       "      <td>0.2565</td>\n",
       "      <td>0.1415</td>\n",
       "      <td>0.210</td>\n",
       "      <td>9</td>\n",
       "    </tr>\n",
       "    <tr>\n",
       "      <td>3</td>\n",
       "      <td>M</td>\n",
       "      <td>0.440</td>\n",
       "      <td>0.365</td>\n",
       "      <td>0.125</td>\n",
       "      <td>0.5160</td>\n",
       "      <td>0.2155</td>\n",
       "      <td>0.1140</td>\n",
       "      <td>0.155</td>\n",
       "      <td>10</td>\n",
       "    </tr>\n",
       "    <tr>\n",
       "      <td>4</td>\n",
       "      <td>I</td>\n",
       "      <td>0.330</td>\n",
       "      <td>0.255</td>\n",
       "      <td>0.080</td>\n",
       "      <td>0.2050</td>\n",
       "      <td>0.0895</td>\n",
       "      <td>0.0395</td>\n",
       "      <td>0.055</td>\n",
       "      <td>7</td>\n",
       "    </tr>\n",
       "  </tbody>\n",
       "</table>\n",
       "</div>"
      ],
      "text/plain": [
       "  Sex  Length  Diameter  Height  Whole_weight  Shucked_weight  Viscera_weight  \\\n",
       "0   M   0.455     0.365   0.095        0.5140          0.2245          0.1010   \n",
       "1   M   0.350     0.265   0.090        0.2255          0.0995          0.0485   \n",
       "2   F   0.530     0.420   0.135        0.6770          0.2565          0.1415   \n",
       "3   M   0.440     0.365   0.125        0.5160          0.2155          0.1140   \n",
       "4   I   0.330     0.255   0.080        0.2050          0.0895          0.0395   \n",
       "\n",
       "   Shell_weight  Rings  \n",
       "0         0.150     15  \n",
       "1         0.070      7  \n",
       "2         0.210      9  \n",
       "3         0.155     10  \n",
       "4         0.055      7  "
      ]
     },
     "execution_count": 5,
     "metadata": {},
     "output_type": "execute_result"
    }
   ],
   "source": [
    "#Quick look\n",
    "abalone.head()"
   ]
  },
  {
   "cell_type": "markdown",
   "metadata": {},
   "source": [
    "We can see that the \"Sex\" feature is coded as 'M', 'F' or 'I'. For convinience, we are going to change those to F=0, M=1, I=2"
   ]
  },
  {
   "cell_type": "code",
   "execution_count": 6,
   "metadata": {},
   "outputs": [],
   "source": [
    "#changing Sex labels to 0 or 1\n",
    "abalone['Sex'].replace(['F', 'M', 'I'], [0, 1, 2], inplace = True)"
   ]
  },
  {
   "cell_type": "markdown",
   "metadata": {},
   "source": [
    "In order to having the \"Sex\" feature working as categorical variable (not as integer), we can change its data type from int to  object:"
   ]
  },
  {
   "cell_type": "code",
   "execution_count": 7,
   "metadata": {},
   "outputs": [],
   "source": [
    "abalone['Sex'] = abalone['Sex'].astype('object')"
   ]
  },
  {
   "cell_type": "code",
   "execution_count": 8,
   "metadata": {},
   "outputs": [
    {
     "data": {
      "text/html": [
       "<div>\n",
       "<style scoped>\n",
       "    .dataframe tbody tr th:only-of-type {\n",
       "        vertical-align: middle;\n",
       "    }\n",
       "\n",
       "    .dataframe tbody tr th {\n",
       "        vertical-align: top;\n",
       "    }\n",
       "\n",
       "    .dataframe thead th {\n",
       "        text-align: right;\n",
       "    }\n",
       "</style>\n",
       "<table border=\"1\" class=\"dataframe\">\n",
       "  <thead>\n",
       "    <tr style=\"text-align: right;\">\n",
       "      <th></th>\n",
       "      <th>Sex</th>\n",
       "      <th>Length</th>\n",
       "      <th>Diameter</th>\n",
       "      <th>Height</th>\n",
       "      <th>Whole_weight</th>\n",
       "      <th>Shucked_weight</th>\n",
       "      <th>Viscera_weight</th>\n",
       "      <th>Shell_weight</th>\n",
       "      <th>Rings</th>\n",
       "    </tr>\n",
       "  </thead>\n",
       "  <tbody>\n",
       "    <tr>\n",
       "      <td>0</td>\n",
       "      <td>1</td>\n",
       "      <td>0.455</td>\n",
       "      <td>0.365</td>\n",
       "      <td>0.095</td>\n",
       "      <td>0.5140</td>\n",
       "      <td>0.2245</td>\n",
       "      <td>0.1010</td>\n",
       "      <td>0.150</td>\n",
       "      <td>15</td>\n",
       "    </tr>\n",
       "    <tr>\n",
       "      <td>1</td>\n",
       "      <td>1</td>\n",
       "      <td>0.350</td>\n",
       "      <td>0.265</td>\n",
       "      <td>0.090</td>\n",
       "      <td>0.2255</td>\n",
       "      <td>0.0995</td>\n",
       "      <td>0.0485</td>\n",
       "      <td>0.070</td>\n",
       "      <td>7</td>\n",
       "    </tr>\n",
       "    <tr>\n",
       "      <td>2</td>\n",
       "      <td>0</td>\n",
       "      <td>0.530</td>\n",
       "      <td>0.420</td>\n",
       "      <td>0.135</td>\n",
       "      <td>0.6770</td>\n",
       "      <td>0.2565</td>\n",
       "      <td>0.1415</td>\n",
       "      <td>0.210</td>\n",
       "      <td>9</td>\n",
       "    </tr>\n",
       "    <tr>\n",
       "      <td>3</td>\n",
       "      <td>1</td>\n",
       "      <td>0.440</td>\n",
       "      <td>0.365</td>\n",
       "      <td>0.125</td>\n",
       "      <td>0.5160</td>\n",
       "      <td>0.2155</td>\n",
       "      <td>0.1140</td>\n",
       "      <td>0.155</td>\n",
       "      <td>10</td>\n",
       "    </tr>\n",
       "    <tr>\n",
       "      <td>4</td>\n",
       "      <td>2</td>\n",
       "      <td>0.330</td>\n",
       "      <td>0.255</td>\n",
       "      <td>0.080</td>\n",
       "      <td>0.2050</td>\n",
       "      <td>0.0895</td>\n",
       "      <td>0.0395</td>\n",
       "      <td>0.055</td>\n",
       "      <td>7</td>\n",
       "    </tr>\n",
       "  </tbody>\n",
       "</table>\n",
       "</div>"
      ],
      "text/plain": [
       "  Sex  Length  Diameter  Height  Whole_weight  Shucked_weight  Viscera_weight  \\\n",
       "0   1   0.455     0.365   0.095        0.5140          0.2245          0.1010   \n",
       "1   1   0.350     0.265   0.090        0.2255          0.0995          0.0485   \n",
       "2   0   0.530     0.420   0.135        0.6770          0.2565          0.1415   \n",
       "3   1   0.440     0.365   0.125        0.5160          0.2155          0.1140   \n",
       "4   2   0.330     0.255   0.080        0.2050          0.0895          0.0395   \n",
       "\n",
       "   Shell_weight  Rings  \n",
       "0         0.150     15  \n",
       "1         0.070      7  \n",
       "2         0.210      9  \n",
       "3         0.155     10  \n",
       "4         0.055      7  "
      ]
     },
     "execution_count": 8,
     "metadata": {},
     "output_type": "execute_result"
    }
   ],
   "source": [
    "abalone.head()"
   ]
  },
  {
   "cell_type": "code",
   "execution_count": 9,
   "metadata": {},
   "outputs": [],
   "source": [
    "#For some further purpose\n",
    "abalone2 = abalone.copy()"
   ]
  },
  {
   "cell_type": "markdown",
   "metadata": {},
   "source": [
    "Another important point to check is the presence of null values in any column. We can easily do that by doing:"
   ]
  },
  {
   "cell_type": "code",
   "execution_count": 10,
   "metadata": {},
   "outputs": [
    {
     "data": {
      "text/plain": [
       "Sex               0\n",
       "Length            0\n",
       "Diameter          0\n",
       "Height            0\n",
       "Whole_weight      0\n",
       "Shucked_weight    0\n",
       "Viscera_weight    0\n",
       "Shell_weight      0\n",
       "Rings             0\n",
       "dtype: int64"
      ]
     },
     "execution_count": 10,
     "metadata": {},
     "output_type": "execute_result"
    }
   ],
   "source": [
    "#Checking for null values\n",
    "abalone.isnull().sum()"
   ]
  },
  {
   "cell_type": "markdown",
   "metadata": {},
   "source": [
    "None of the columns have any null value and that is always a good scenario to work with."
   ]
  },
  {
   "cell_type": "markdown",
   "metadata": {},
   "source": [
    "Checking the data types can be very handy, in case of we getting some error future error. Let's check it out:"
   ]
  },
  {
   "cell_type": "code",
   "execution_count": 11,
   "metadata": {},
   "outputs": [
    {
     "data": {
      "text/plain": [
       "Sex                object\n",
       "Length            float64\n",
       "Diameter          float64\n",
       "Height            float64\n",
       "Whole_weight      float64\n",
       "Shucked_weight    float64\n",
       "Viscera_weight    float64\n",
       "Shell_weight      float64\n",
       "Rings               int64\n",
       "dtype: object"
      ]
     },
     "execution_count": 11,
     "metadata": {},
     "output_type": "execute_result"
    }
   ],
   "source": [
    "abalone.dtypes"
   ]
  },
  {
   "cell_type": "markdown",
   "metadata": {},
   "source": [
    "An example of good practice when working with a dataset is checking for duplicated observations. in general, it is common to face the need to gather data from multiple sources, which can cause repetition of informations. To check for duplicated data, we can simply do:"
   ]
  },
  {
   "cell_type": "code",
   "execution_count": 12,
   "metadata": {},
   "outputs": [
    {
     "data": {
      "text/plain": [
       "0"
      ]
     },
     "execution_count": 12,
     "metadata": {},
     "output_type": "execute_result"
    }
   ],
   "source": [
    "#Checking for duplicated information\n",
    "abalone.duplicated().sum()"
   ]
  },
  {
   "cell_type": "markdown",
   "metadata": {},
   "source": [
    "As we can see, the dataset does not have duplicated rows."
   ]
  },
  {
   "cell_type": "markdown",
   "metadata": {},
   "source": [
    "## Exploratory Data Analysis"
   ]
  },
  {
   "cell_type": "markdown",
   "metadata": {},
   "source": [
    "Another really important part of the work with any dataset, the exploratory data analysis is a handy tool box able to help us get some important insights. We can start using the describe method:"
   ]
  },
  {
   "cell_type": "code",
   "execution_count": 13,
   "metadata": {},
   "outputs": [
    {
     "data": {
      "text/html": [
       "<div>\n",
       "<style scoped>\n",
       "    .dataframe tbody tr th:only-of-type {\n",
       "        vertical-align: middle;\n",
       "    }\n",
       "\n",
       "    .dataframe tbody tr th {\n",
       "        vertical-align: top;\n",
       "    }\n",
       "\n",
       "    .dataframe thead th {\n",
       "        text-align: right;\n",
       "    }\n",
       "</style>\n",
       "<table border=\"1\" class=\"dataframe\">\n",
       "  <thead>\n",
       "    <tr style=\"text-align: right;\">\n",
       "      <th></th>\n",
       "      <th>Length</th>\n",
       "      <th>Diameter</th>\n",
       "      <th>Height</th>\n",
       "      <th>Whole_weight</th>\n",
       "      <th>Shucked_weight</th>\n",
       "      <th>Viscera_weight</th>\n",
       "      <th>Shell_weight</th>\n",
       "      <th>Rings</th>\n",
       "    </tr>\n",
       "  </thead>\n",
       "  <tbody>\n",
       "    <tr>\n",
       "      <td>count</td>\n",
       "      <td>4177.000000</td>\n",
       "      <td>4177.000000</td>\n",
       "      <td>4177.000000</td>\n",
       "      <td>4177.000000</td>\n",
       "      <td>4177.000000</td>\n",
       "      <td>4177.000000</td>\n",
       "      <td>4177.000000</td>\n",
       "      <td>4177.000000</td>\n",
       "    </tr>\n",
       "    <tr>\n",
       "      <td>mean</td>\n",
       "      <td>0.523992</td>\n",
       "      <td>0.407881</td>\n",
       "      <td>0.139516</td>\n",
       "      <td>0.828742</td>\n",
       "      <td>0.359367</td>\n",
       "      <td>0.180594</td>\n",
       "      <td>0.238831</td>\n",
       "      <td>9.933684</td>\n",
       "    </tr>\n",
       "    <tr>\n",
       "      <td>std</td>\n",
       "      <td>0.120093</td>\n",
       "      <td>0.099240</td>\n",
       "      <td>0.041827</td>\n",
       "      <td>0.490389</td>\n",
       "      <td>0.221963</td>\n",
       "      <td>0.109614</td>\n",
       "      <td>0.139203</td>\n",
       "      <td>3.224169</td>\n",
       "    </tr>\n",
       "    <tr>\n",
       "      <td>min</td>\n",
       "      <td>0.075000</td>\n",
       "      <td>0.055000</td>\n",
       "      <td>0.000000</td>\n",
       "      <td>0.002000</td>\n",
       "      <td>0.001000</td>\n",
       "      <td>0.000500</td>\n",
       "      <td>0.001500</td>\n",
       "      <td>1.000000</td>\n",
       "    </tr>\n",
       "    <tr>\n",
       "      <td>25%</td>\n",
       "      <td>0.450000</td>\n",
       "      <td>0.350000</td>\n",
       "      <td>0.115000</td>\n",
       "      <td>0.441500</td>\n",
       "      <td>0.186000</td>\n",
       "      <td>0.093500</td>\n",
       "      <td>0.130000</td>\n",
       "      <td>8.000000</td>\n",
       "    </tr>\n",
       "    <tr>\n",
       "      <td>50%</td>\n",
       "      <td>0.545000</td>\n",
       "      <td>0.425000</td>\n",
       "      <td>0.140000</td>\n",
       "      <td>0.799500</td>\n",
       "      <td>0.336000</td>\n",
       "      <td>0.171000</td>\n",
       "      <td>0.234000</td>\n",
       "      <td>9.000000</td>\n",
       "    </tr>\n",
       "    <tr>\n",
       "      <td>75%</td>\n",
       "      <td>0.615000</td>\n",
       "      <td>0.480000</td>\n",
       "      <td>0.165000</td>\n",
       "      <td>1.153000</td>\n",
       "      <td>0.502000</td>\n",
       "      <td>0.253000</td>\n",
       "      <td>0.329000</td>\n",
       "      <td>11.000000</td>\n",
       "    </tr>\n",
       "    <tr>\n",
       "      <td>max</td>\n",
       "      <td>0.815000</td>\n",
       "      <td>0.650000</td>\n",
       "      <td>1.130000</td>\n",
       "      <td>2.825500</td>\n",
       "      <td>1.488000</td>\n",
       "      <td>0.760000</td>\n",
       "      <td>1.005000</td>\n",
       "      <td>29.000000</td>\n",
       "    </tr>\n",
       "  </tbody>\n",
       "</table>\n",
       "</div>"
      ],
      "text/plain": [
       "            Length     Diameter       Height  Whole_weight  Shucked_weight  \\\n",
       "count  4177.000000  4177.000000  4177.000000   4177.000000     4177.000000   \n",
       "mean      0.523992     0.407881     0.139516      0.828742        0.359367   \n",
       "std       0.120093     0.099240     0.041827      0.490389        0.221963   \n",
       "min       0.075000     0.055000     0.000000      0.002000        0.001000   \n",
       "25%       0.450000     0.350000     0.115000      0.441500        0.186000   \n",
       "50%       0.545000     0.425000     0.140000      0.799500        0.336000   \n",
       "75%       0.615000     0.480000     0.165000      1.153000        0.502000   \n",
       "max       0.815000     0.650000     1.130000      2.825500        1.488000   \n",
       "\n",
       "       Viscera_weight  Shell_weight        Rings  \n",
       "count     4177.000000   4177.000000  4177.000000  \n",
       "mean         0.180594      0.238831     9.933684  \n",
       "std          0.109614      0.139203     3.224169  \n",
       "min          0.000500      0.001500     1.000000  \n",
       "25%          0.093500      0.130000     8.000000  \n",
       "50%          0.171000      0.234000     9.000000  \n",
       "75%          0.253000      0.329000    11.000000  \n",
       "max          0.760000      1.005000    29.000000  "
      ]
     },
     "execution_count": 13,
     "metadata": {},
     "output_type": "execute_result"
    }
   ],
   "source": [
    "abalone.describe()"
   ]
  },
  {
   "cell_type": "markdown",
   "metadata": {},
   "source": [
    "Considering the results from the table above, we can draw a lot of conclusions, some are: \n",
    "* The abalone mean age was 9.93(rings)+1.5 = 11.43 years;\n",
    "* The abalone longest shell measuremnt found was 0.81 mm;\n",
    "* The abalone minimum diameter found was 0.055 mm;\n",
    "* The 25% of abalone with the highest Heights (with meat in shell) were above 0.165 mm;\n",
    "* The median of the whole weights of abalone was 0.8 grams;\n",
    "* The maximum number of rings found was 29;\n",
    "* The standart deviation was relatively high for some features."
   ]
  },
  {
   "cell_type": "markdown",
   "metadata": {},
   "source": [
    "Let's ask for some statistics considering our categorical variable as reference:"
   ]
  },
  {
   "cell_type": "code",
   "execution_count": 14,
   "metadata": {},
   "outputs": [
    {
     "name": "stdout",
     "output_type": "stream",
     "text": [
      "1    36.581278\n",
      "2    32.128322\n",
      "0    31.290400\n",
      "Name: Sex, dtype: float64\n"
     ]
    }
   ],
   "source": [
    "print((abalone[\"Sex\"].value_counts()/len(abalone['Sex']))*100)"
   ]
  },
  {
   "cell_type": "markdown",
   "metadata": {},
   "source": [
    "Now we know that 36.58% of the abalone are male, 32.13% are female and 31.29% are infant. Well balanced classes!"
   ]
  },
  {
   "cell_type": "markdown",
   "metadata": {},
   "source": [
    "Althought 'Sex' is not our target variable for a regression task, we can use it as reference to obtain some simple but importante informations about our numerical features. Let's group our features by 'Sex' and take the mean:"
   ]
  },
  {
   "cell_type": "code",
   "execution_count": 15,
   "metadata": {},
   "outputs": [
    {
     "name": "stdout",
     "output_type": "stream",
     "text": [
      "       Length  Diameter    Height  Whole_weight  Shucked_weight  \\\n",
      "Sex                                                               \n",
      "0    0.579093  0.454732  0.158011      1.046532        0.446188   \n",
      "1    0.561391  0.439287  0.151381      0.991459        0.432946   \n",
      "2    0.427746  0.326494  0.107996      0.431363        0.191035   \n",
      "\n",
      "     Viscera_weight  Shell_weight      Rings  \n",
      "Sex                                           \n",
      "0          0.230689      0.302010  11.129304  \n",
      "1          0.215545      0.281969  10.705497  \n",
      "2          0.092010      0.128182   7.890462  \n"
     ]
    }
   ],
   "source": [
    "print(abalone.groupby(\"Sex\").mean())"
   ]
  },
  {
   "cell_type": "markdown",
   "metadata": {},
   "source": [
    "We can see that, in average, the female abalone are much bigger, heavier and have more rings than male abalone. Although there is some difference between the characteristics of male and female, it does not seem so significant. However, for obvious reasons, the differences between adult abalone and infant abalone are very clear. Based on that, we could propose some transformation to the 'Sex' feature, considering the status of an abalone as been adult or not, it seems that would be more impactant to the model. Let's keep this feature the way it is for now."
   ]
  },
  {
   "cell_type": "markdown",
   "metadata": {},
   "source": [
    "Another good practice action is to visualize the distribuition of the features. It can be very hand for some approaches such as hypotesis tests, checking model assumptions (commonly done in statistical approaches) etc. Let's ask for some histograms:"
   ]
  },
  {
   "cell_type": "code",
   "execution_count": 16,
   "metadata": {},
   "outputs": [
    {
     "data": {
      "image/png": "[encoded data removed]",
      "text/plain": [
       "<Figure size 1080x720 with 9 Axes>"
      ]
     },
     "metadata": {
      "needs_background": "light"
     },
     "output_type": "display_data"
    }
   ],
   "source": [
    "abalone.hist(bins = 10, figsize = (15, 10));"
   ]
  },
  {
   "cell_type": "markdown",
   "metadata": {},
   "source": [
    "From the histograms above we can conclude that 'Diameter' and 'Length' are distributed in a very similar way. We can also see great similarities among all the weight features."
   ]
  },
  {
   "cell_type": "markdown",
   "metadata": {},
   "source": [
    "Some observations can be really harmful to statistical/machine learning models and even to simple data analysis if not handled correctly. This observations are called outliers. Outliers are data points distributed away from most of the data, and it happens because they are either too small or too big. These observations can be resulted from tons of reasons.\n",
    "\n",
    "A definition of outlier tells us that an observation that is beyond the inner fence should be considered a moderate outlier, while an observation that is beyond the outer fence should be considered an extreme outlier. The inner fence is given by the product of the interquartile range (quartil3 - quartil1) and the constant 1.5, then this number is added to the third quartile and subtracted by the first quartile. The outer fence is found the same way, just changing 1.5 by 3.\n",
    "\n",
    "Let's creat a function to find these fellas:"
   ]
  },
  {
   "cell_type": "code",
   "execution_count": 17,
   "metadata": {},
   "outputs": [],
   "source": [
    "def outliers(dataset, data, drop_mod = False, drop_ext = False):\n",
    "    l1 = []\n",
    "    l2 = []\n",
    "    for var in data.columns:\n",
    "        data_var = data[var]\n",
    "        Q1 = np.percentile(data_var, 25.) # 25th percentile\n",
    "        Q3 = np.percentile(data_var, 75.) # 75th percentile\n",
    "        IQR = Q3-Q1 #Interquartile Range\n",
    "        outlier_mod = IQR * 1.5 #to find the inner fence\n",
    "        outlier_ext = IQR * 3 #to find the outer fence\n",
    "        \n",
    "        outliers1 = data_var[~((data_var >= Q1 - outlier_mod) & (data_var <= Q3 + outlier_mod))].index.tolist() #inner fence\n",
    "        outliers2 = data_var[~((data_var >= Q1 - outlier_ext) & (data_var <= Q3 + outlier_ext))].index.tolist() #outer fence \n",
    "        l1.append(len(outliers1)) #total of moderate outliers by feature\n",
    "        l2.append(len(outliers2)) #total of extreme outliers by feature\n",
    "    \n",
    "    df = pd.concat([pd.Series(l1).rename(\"Moderate\"), pd.Series(l2).rename(\"Extreme\")], axis = 1)\n",
    "    df.index = data.columns\n",
    "    \n",
    "    print(\"The Total of Atipical Observation is:\")\n",
    "    print(\"--\"*25)\n",
    "    print(df)\n",
    "        \n",
    "    if  drop_mod:\n",
    "        dataset.drop(outliers1, inplace = True, errors = 'ignore')\n",
    "        print('--'*25)\n",
    "        print(\"All the Moderate Outliers Have Been Removed\")  \n",
    "    if drop_ext:\n",
    "            dataset.drop(outliers2, inplace = True, errors = 'ignore')  \n",
    "            print('--'*25)\n",
    "            print(\"All the Extreme Outliers Have Been Removed\")"
   ]
  },
  {
   "cell_type": "markdown",
   "metadata": {},
   "source": [
    "Now, let's define the features (numerical) to search in:"
   ]
  },
  {
   "cell_type": "code",
   "execution_count": 18,
   "metadata": {},
   "outputs": [],
   "source": [
    "var_list = ['Length', 'Diameter', \"Height\", 'Whole_weight', \n",
    "         'Shucked_weight', 'Viscera_weight', 'Shell_weight', \"Rings\"]"
   ]
  },
  {
   "cell_type": "markdown",
   "metadata": {},
   "source": [
    "We are going to use the 'outliers' function to check how many moderate and extreme outliers are in each feature, asking the function to drop only the extreme ones:"
   ]
  },
  {
   "cell_type": "code",
   "execution_count": 19,
   "metadata": {},
   "outputs": [
    {
     "name": "stdout",
     "output_type": "stream",
     "text": [
      "The Total of Atipical Observation is:\n",
      "--------------------------------------------------\n",
      "                Moderate  Extreme\n",
      "Length                49        0\n",
      "Diameter              59        0\n",
      "Height                29        2\n",
      "Whole_weight          30        0\n",
      "Shucked_weight        48        1\n",
      "Viscera_weight        26        1\n",
      "Shell_weight          35        1\n",
      "Rings                278       36\n",
      "--------------------------------------------------\n",
      "All the Extreme Outliers Have Been Removed\n"
     ]
    }
   ],
   "source": [
    "outliers(abalone, abalone[var_list], drop_mod = False, drop_ext = True)"
   ]
  },
  {
   "cell_type": "markdown",
   "metadata": {},
   "source": [
    "Now we got:"
   ]
  },
  {
   "cell_type": "code",
   "execution_count": 20,
   "metadata": {},
   "outputs": [
    {
     "data": {
      "text/plain": [
       "(4141, 9)"
      ]
     },
     "execution_count": 20,
     "metadata": {},
     "output_type": "execute_result"
    }
   ],
   "source": [
    "abalone.shape"
   ]
  },
  {
   "cell_type": "markdown",
   "metadata": {},
   "source": [
    "If you take a quick look at the outliers table, you will see that a relatively high number of moderate outliers was found in every feature, it indicates that by nature, some abalone have specific characteristics that difers them from the most abalone in the dataset. In other words, it would be very unlikely that at least 20% of this observations are derived from human mistake or miscalibration of the abalone characteristics. We can remove all these 'outliers' but that would be a source of bias for a small dataset, considering the fact the we have over 4000 instances, we can actually try that."
   ]
  },
  {
   "cell_type": "markdown",
   "metadata": {},
   "source": [
    "Now that we talked about outliers, let's see how the numerical features are related to each other calling for the correlation matrix:"
   ]
  },
  {
   "cell_type": "code",
   "execution_count": 21,
   "metadata": {},
   "outputs": [
    {
     "data": {
      "text/plain": [
       "<matplotlib.axes._subplots.AxesSubplot at 0x2024fda5888>"
      ]
     },
     "execution_count": 21,
     "metadata": {},
     "output_type": "execute_result"
    },
    {
     "data": {
      "image/png": "[encoded data removed]",
      "text/plain": [
       "<Figure size 432x288 with 2 Axes>"
      ]
     },
     "metadata": {
      "needs_background": "light"
     },
     "output_type": "display_data"
    }
   ],
   "source": [
    "corr = abalone.corr()\n",
    "sns.heatmap(corr, xticklabels = corr.columns, yticklabels = corr.columns, cmap = 'RdBu', annot = True)"
   ]
  },
  {
   "cell_type": "markdown",
   "metadata": {},
   "source": [
    "Some important points can be discussed based on this correlation matrix. Taking a look at our target (Rings), we can see that there are a level of linear relation with the features (values close to 0.6), however considering that we are going to use linear based regression models, we would like to have relations a bit higher (something over 0.7).\n",
    "\n",
    "Another important thing to pay attention is the fact that most features are highly correlated to each other. It was expected since we have 3 size features and 4 weight features. This fact would certainly lead us to a multicolinearity scenario, and it tells us that we probably should consider a model with fewer features, since some of them are \"telling the same thing\"."
   ]
  },
  {
   "cell_type": "markdown",
   "metadata": {},
   "source": [
    "## Modeling"
   ]
  },
  {
   "cell_type": "code",
   "execution_count": 22,
   "metadata": {},
   "outputs": [],
   "source": [
    "#Import for the machine learning\n",
    "from sklearn.linear_model import LinearRegression\n",
    "from sklearn.linear_model import SGDRegressor\n",
    "from sklearn.ensemble import RandomForestRegressor\n",
    "from sklearn.preprocessing import StandardScaler\n",
    "from sklearn.model_selection import train_test_split\n",
    "from sklearn.model_selection import cross_val_score"
   ]
  },
  {
   "cell_type": "markdown",
   "metadata": {},
   "source": [
    "The models that we are going to use are: Linear Regression, Stochastic Gradient Descent Regressor and Random Forest Regressor. Let's train them:"
   ]
  },
  {
   "cell_type": "code",
   "execution_count": 23,
   "metadata": {},
   "outputs": [],
   "source": [
    "#defining the target and features\n",
    "target = abalone['Rings']\n",
    "features = abalone.drop('Rings', axis = 1)"
   ]
  },
  {
   "cell_type": "code",
   "execution_count": 24,
   "metadata": {},
   "outputs": [],
   "source": [
    "#splitting the data in train and test sets (houldout)\n",
    "Xtrain, Xtest, ytrain, ytest = train_test_split(features, target, test_size = 0.30, random_state = 97)"
   ]
  },
  {
   "cell_type": "code",
   "execution_count": 25,
   "metadata": {},
   "outputs": [],
   "source": [
    "#Standerdizing the features\n",
    "scaler = StandardScaler()\n",
    "Xtrain = scaler.fit_transform(Xtrain)\n",
    "Xtest  = scaler.fit_transform(Xtest)"
   ]
  },
  {
   "cell_type": "code",
   "execution_count": 26,
   "metadata": {},
   "outputs": [],
   "source": [
    "#List of models to be used in training loop\n",
    "models = [LinearRegression(),\n",
    "          SGDRegressor(random_state = 97),\n",
    "          RandomForestRegressor(random_state = 97)]"
   ]
  },
  {
   "cell_type": "markdown",
   "metadata": {},
   "source": [
    "To train the model, let's run a for loop training every model using the standerdized features and evaluating them with the negative mean squared error. A 10-fold cross-validation was applied."
   ]
  },
  {
   "cell_type": "code",
   "execution_count": 27,
   "metadata": {},
   "outputs": [
    {
     "name": "stdout",
     "output_type": "stream",
     "text": [
      "------------------------\n",
      "LinearRegression\n",
      "Mean:  2.1434547615514545\n",
      "Standard Deviation:  0.15979324372131012\n",
      "------------------------\n",
      "------------------------\n",
      "SGDRegressor\n",
      "Mean:  2.160426288404305\n",
      "Standard Deviation:  0.16815436740230605\n",
      "------------------------\n"
     ]
    },
    {
     "name": "stderr",
     "output_type": "stream",
     "text": [
      "D:\\Python\\lib\\site-packages\\sklearn\\ensemble\\forest.py:245: FutureWarning: The default value of n_estimators will change from 10 in version 0.20 to 100 in 0.22.\n",
      "  \"10 in version 0.20 to 100 in 0.22.\", FutureWarning)\n"
     ]
    },
    {
     "name": "stdout",
     "output_type": "stream",
     "text": [
      "------------------------\n",
      "RandomForestRegressor\n",
      "Mean:  2.1343478349061904\n",
      "Standard Deviation:  0.10304142196902716\n",
      "------------------------\n"
     ]
    }
   ],
   "source": [
    "for mod in models:\n",
    "    mod.fit(Xtrain, ytrain)\n",
    "    model = mod.__class__.__name__\n",
    "    \n",
    "    results = cross_val_score(mod, Xtrain, ytrain, scoring = 'neg_mean_squared_error', cv = 10)\n",
    "    RMSE = np.sqrt(-results)\n",
    "    \n",
    "    print(\"--\"*12)\n",
    "    print(model)\n",
    "    print(\"Mean: \", RMSE.mean())\n",
    "    print(\"Standard Deviation: \", RMSE.std())\n",
    "    print(\"--\"*12)"
   ]
  },
  {
   "cell_type": "markdown",
   "metadata": {},
   "source": [
    "As we can see, the three models performed with pretty closed results, but considering both the means of root mean squared errors and the standard deviations, we decided to go with the Random Forest Regressor."
   ]
  },
  {
   "cell_type": "markdown",
   "metadata": {},
   "source": [
    "Now that we choose the Random Forest Regressor, we can do what we call 'Grid Search Cross-validation' to search for the best hyperparameters. Using the 'right' hyperparameters can improve the performance of the model significantly in certain cases. For the RandomForestRegressor, the hyperparameters are 'n_estimators' and 'max_features'. First of all, we have to determine an interval of possibilities, a list or dictionary to be searched in. Let's do it:"
   ]
  },
  {
   "cell_type": "code",
   "execution_count": 28,
   "metadata": {},
   "outputs": [
    {
     "data": {
      "text/plain": [
       "GridSearchCV(cv=6, error_score='raise-deprecating',\n",
       "             estimator=RandomForestRegressor(bootstrap=True, criterion='mse',\n",
       "                                             max_depth=None,\n",
       "                                             max_features='auto',\n",
       "                                             max_leaf_nodes=None,\n",
       "                                             min_impurity_decrease=0.0,\n",
       "                                             min_impurity_split=None,\n",
       "                                             min_samples_leaf=1,\n",
       "                                             min_samples_split=2,\n",
       "                                             min_weight_fraction_leaf=0.0,\n",
       "                                             n_estimators='warn', n_jobs=None,\n",
       "                                             oob_score=False, random_state=97,\n",
       "                                             verbose=0, warm_start=False),\n",
       "             iid='warn', n_jobs=None,\n",
       "             param_grid=[{'max_features': [2, 4, 6, 8],\n",
       "                          'n_estimators': [10, 50, 100]}],\n",
       "             pre_dispatch='2*n_jobs', refit=True, return_train_score=False,\n",
       "             scoring='neg_mean_squared_error', verbose=0)"
      ]
     },
     "execution_count": 28,
     "metadata": {},
     "output_type": "execute_result"
    }
   ],
   "source": [
    "from sklearn.model_selection import GridSearchCV\n",
    "\n",
    "grid = [{'n_estimators': [10, 50, 100],\n",
    "         'max_features': [2, 4, 6, 8]}]\n",
    "\n",
    "RFR = RandomForestRegressor(random_state = 97)\n",
    "\n",
    "GSearch = GridSearchCV(RFR, grid, cv = 6, scoring = 'neg_mean_squared_error' )\n",
    "\n",
    "GSearch.fit(Xtrain, ytrain)"
   ]
  },
  {
   "cell_type": "markdown",
   "metadata": {},
   "source": [
    "So, as we can see below, after the grid search is done we can check for the best hyperparameters for our model, which were 'max_features:2' and 'n_estimators:100'.\n",
    "\n",
    "Two features was said to be the best choice and that 'proves' what we saw before, correlated features telling the same thing. We can always drop some of them and still keep an informative and good performer model."
   ]
  },
  {
   "cell_type": "code",
   "execution_count": 29,
   "metadata": {},
   "outputs": [
    {
     "data": {
      "text/plain": [
       "{'max_features': 2, 'n_estimators': 100}"
      ]
     },
     "execution_count": 29,
     "metadata": {},
     "output_type": "execute_result"
    }
   ],
   "source": [
    "GSearch.best_params_"
   ]
  },
  {
   "cell_type": "markdown",
   "metadata": {},
   "source": [
    "Now we can have the best possible model to make predictions. Let's make some predictions and evaluate them:"
   ]
  },
  {
   "cell_type": "code",
   "execution_count": 30,
   "metadata": {},
   "outputs": [],
   "source": [
    "from sklearn.metrics import mean_squared_error\n",
    "\n",
    "final_model = GSearch.best_estimator_\n",
    "ypred = final_model.predict(Xtest)"
   ]
  },
  {
   "cell_type": "code",
   "execution_count": 31,
   "metadata": {},
   "outputs": [
    {
     "name": "stdout",
     "output_type": "stream",
     "text": [
      "      Observed  Predicted\n",
      "0           12       8.86\n",
      "1            9      11.50\n",
      "2            9       9.26\n",
      "3            9       9.43\n",
      "4            7       7.63\n",
      "...        ...        ...\n",
      "1238         4       5.58\n",
      "1239         7       7.69\n",
      "1240        16      15.16\n",
      "1241         8       7.90\n",
      "1242        19      13.15\n",
      "\n",
      "[1243 rows x 2 columns]\n"
     ]
    }
   ],
   "source": [
    "ytest.reset_index(drop = True, inplace = True)\n",
    "print(pd.concat([ytest.rename('Observed'), pd.Series(ypred).rename('Predicted')], axis=1))"
   ]
  },
  {
   "cell_type": "markdown",
   "metadata": {},
   "source": [
    "Comparing the observed and predicted values, we can see that our model performed pretty well, with a final RMSE of 1.90 as we can see below:"
   ]
  },
  {
   "cell_type": "code",
   "execution_count": 32,
   "metadata": {},
   "outputs": [
    {
     "name": "stdout",
     "output_type": "stream",
     "text": [
      "1.9037008881651984\n"
     ]
    }
   ],
   "source": [
    "MSE = mean_squared_error(ytest, ypred)\n",
    "RMSE = np.sqrt(MSE)\n",
    "print(RMSE)"
   ]
  },
  {
   "cell_type": "markdown",
   "metadata": {},
   "source": [
    "# Classification"
   ]
  },
  {
   "cell_type": "markdown",
   "metadata": {},
   "source": [
    "For the classification task let's leave our first dataset alone and use the copy 'abalone2'dataset that we have created back there:"
   ]
  },
  {
   "cell_type": "code",
   "execution_count": 33,
   "metadata": {},
   "outputs": [
    {
     "data": {
      "text/html": [
       "<div>\n",
       "<style scoped>\n",
       "    .dataframe tbody tr th:only-of-type {\n",
       "        vertical-align: middle;\n",
       "    }\n",
       "\n",
       "    .dataframe tbody tr th {\n",
       "        vertical-align: top;\n",
       "    }\n",
       "\n",
       "    .dataframe thead th {\n",
       "        text-align: right;\n",
       "    }\n",
       "</style>\n",
       "<table border=\"1\" class=\"dataframe\">\n",
       "  <thead>\n",
       "    <tr style=\"text-align: right;\">\n",
       "      <th></th>\n",
       "      <th>Sex</th>\n",
       "      <th>Length</th>\n",
       "      <th>Diameter</th>\n",
       "      <th>Height</th>\n",
       "      <th>Whole_weight</th>\n",
       "      <th>Shucked_weight</th>\n",
       "      <th>Viscera_weight</th>\n",
       "      <th>Shell_weight</th>\n",
       "      <th>Rings</th>\n",
       "    </tr>\n",
       "  </thead>\n",
       "  <tbody>\n",
       "    <tr>\n",
       "      <td>0</td>\n",
       "      <td>1</td>\n",
       "      <td>0.455</td>\n",
       "      <td>0.365</td>\n",
       "      <td>0.095</td>\n",
       "      <td>0.5140</td>\n",
       "      <td>0.2245</td>\n",
       "      <td>0.1010</td>\n",
       "      <td>0.150</td>\n",
       "      <td>15</td>\n",
       "    </tr>\n",
       "    <tr>\n",
       "      <td>1</td>\n",
       "      <td>1</td>\n",
       "      <td>0.350</td>\n",
       "      <td>0.265</td>\n",
       "      <td>0.090</td>\n",
       "      <td>0.2255</td>\n",
       "      <td>0.0995</td>\n",
       "      <td>0.0485</td>\n",
       "      <td>0.070</td>\n",
       "      <td>7</td>\n",
       "    </tr>\n",
       "    <tr>\n",
       "      <td>2</td>\n",
       "      <td>0</td>\n",
       "      <td>0.530</td>\n",
       "      <td>0.420</td>\n",
       "      <td>0.135</td>\n",
       "      <td>0.6770</td>\n",
       "      <td>0.2565</td>\n",
       "      <td>0.1415</td>\n",
       "      <td>0.210</td>\n",
       "      <td>9</td>\n",
       "    </tr>\n",
       "    <tr>\n",
       "      <td>3</td>\n",
       "      <td>1</td>\n",
       "      <td>0.440</td>\n",
       "      <td>0.365</td>\n",
       "      <td>0.125</td>\n",
       "      <td>0.5160</td>\n",
       "      <td>0.2155</td>\n",
       "      <td>0.1140</td>\n",
       "      <td>0.155</td>\n",
       "      <td>10</td>\n",
       "    </tr>\n",
       "    <tr>\n",
       "      <td>4</td>\n",
       "      <td>2</td>\n",
       "      <td>0.330</td>\n",
       "      <td>0.255</td>\n",
       "      <td>0.080</td>\n",
       "      <td>0.2050</td>\n",
       "      <td>0.0895</td>\n",
       "      <td>0.0395</td>\n",
       "      <td>0.055</td>\n",
       "      <td>7</td>\n",
       "    </tr>\n",
       "  </tbody>\n",
       "</table>\n",
       "</div>"
      ],
      "text/plain": [
       "  Sex  Length  Diameter  Height  Whole_weight  Shucked_weight  Viscera_weight  \\\n",
       "0   1   0.455     0.365   0.095        0.5140          0.2245          0.1010   \n",
       "1   1   0.350     0.265   0.090        0.2255          0.0995          0.0485   \n",
       "2   0   0.530     0.420   0.135        0.6770          0.2565          0.1415   \n",
       "3   1   0.440     0.365   0.125        0.5160          0.2155          0.1140   \n",
       "4   2   0.330     0.255   0.080        0.2050          0.0895          0.0395   \n",
       "\n",
       "   Shell_weight  Rings  \n",
       "0         0.150     15  \n",
       "1         0.070      7  \n",
       "2         0.210      9  \n",
       "3         0.155     10  \n",
       "4         0.055      7  "
      ]
     },
     "execution_count": 33,
     "metadata": {},
     "output_type": "execute_result"
    }
   ],
   "source": [
    "abalone2.head()"
   ]
  },
  {
   "cell_type": "markdown",
   "metadata": {},
   "source": [
    "For for this case, our target variable is \"Sex\". We know that this variable has 3 classes (Male, Female and Infant) and something important to say considering this situation is that there are a lot possible approaches to handle multiclass classification, however because of the nature of the \"Sex\" variable in our case, we are going to consider a new consolidation of classes that will lead us to a binary classification problem."
   ]
  },
  {
   "cell_type": "markdown",
   "metadata": {},
   "source": [
    "We have seen in the descriptives statistics that male and female abalone are not that different from each other, however the infant abalone have some clear physical differences comparing to both male and female abalone. Because of that, we can think of male and female as an \"Adult\" class, and then we would have two classes with greater variability between them. So, let's join male and female:"
   ]
  },
  {
   "cell_type": "code",
   "execution_count": 34,
   "metadata": {},
   "outputs": [],
   "source": [
    "#Replacing class '0' for '1', joining male and female, and also changing infant abalone from '2' to '0'.\n",
    "abalone2['Sex'].replace([0, 2], [1, 0], inplace = True)"
   ]
  },
  {
   "cell_type": "code",
   "execution_count": 35,
   "metadata": {},
   "outputs": [
    {
     "data": {
      "text/plain": [
       "0       1\n",
       "1       1\n",
       "2       1\n",
       "3       1\n",
       "4       0\n",
       "       ..\n",
       "4172    1\n",
       "4173    1\n",
       "4174    1\n",
       "4175    1\n",
       "4176    1\n",
       "Name: Sex, Length: 4177, dtype: int64"
      ]
     },
     "execution_count": 35,
     "metadata": {},
     "output_type": "execute_result"
    }
   ],
   "source": [
    "abalone2['Sex']"
   ]
  },
  {
   "cell_type": "markdown",
   "metadata": {},
   "source": [
    "Before we unified the male and female classes, we had a well balanced \"Sex\" variable where the 3 classes had close percentage representation. Now that we have 2 classes, one of them has almost twice the size of the other and that is reasonable problem of imbalanced classes:"
   ]
  },
  {
   "cell_type": "code",
   "execution_count": 36,
   "metadata": {},
   "outputs": [
    {
     "data": {
      "text/plain": [
       "1    0.678717\n",
       "0    0.321283\n",
       "Name: Sex, dtype: float64"
      ]
     },
     "execution_count": 36,
     "metadata": {},
     "output_type": "execute_result"
    }
   ],
   "source": [
    "abalone2['Sex'].value_counts()/len(abalone2['Sex'])"
   ]
  },
  {
   "cell_type": "markdown",
   "metadata": {},
   "source": [
    "### Handling Inbalanced Classes"
   ]
  },
  {
   "cell_type": "markdown",
   "metadata": {},
   "source": [
    "Imbalanced classes is a problem for a lot of machine learning classification algorithms, since some of them were designed based on the assumption that we have balanced classes. This problem can produce poor classification results, mainly involving the minor class.\n",
    "\n",
    "A lot of Scikit-learn algorithms has a \"weight\" parameter to deal with imbalanced classes, however we are going to deal with it using a strategy called \"downsampling\". Downsampling as the name suggests, works reducing the size of the major class to be equal to the size of the minor class. Considering that we have a \"big\" dataset, that will not be a problem."
   ]
  },
  {
   "cell_type": "code",
   "execution_count": 37,
   "metadata": {},
   "outputs": [],
   "source": [
    "target2 = abalone2['Sex']\n",
    "features2 = abalone2.drop('Sex', axis = 1)"
   ]
  },
  {
   "cell_type": "markdown",
   "metadata": {},
   "source": [
    "First, we'll create two numpy arrays of indexes, one for class '0' and one for class '1' and then we'll create two more objects to indicate the length of the arrays. After that, we can produce a \"new class 1\" by sampling randomly one observation of class 1 for every observation of class 0 (without replacement). That will result in an array of the same size as class 0."
   ]
  },
  {
   "cell_type": "code",
   "execution_count": 38,
   "metadata": {},
   "outputs": [],
   "source": [
    "#Indices\n",
    "class0 = np.where(target2==0)[0]\n",
    "class1 = np.where(target2==1)[0]\n",
    "\n",
    "#Number of observation in each class\n",
    "n_class0 = len(class0)\n",
    "n_class1 = len(class1)\n",
    "\n",
    "#From every observation of class 0, randomly sample from class 1\n",
    "#without replacement\n",
    "new_class1 = np.random.choice(class1, size = n_class0, replace = False)"
   ]
  },
  {
   "cell_type": "markdown",
   "metadata": {},
   "source": [
    "Now, we have to join both classes in a new target vector:"
   ]
  },
  {
   "cell_type": "code",
   "execution_count": 39,
   "metadata": {},
   "outputs": [],
   "source": [
    "#Join class 0's target vector with the new_class1's target vector\n",
    "n_target = np.hstack((target2[class0], target2[new_class1]))"
   ]
  },
  {
   "cell_type": "code",
   "execution_count": 40,
   "metadata": {},
   "outputs": [
    {
     "name": "stdout",
     "output_type": "stream",
     "text": [
      "[[   0 1342]\n",
      " [   1 1342]]\n"
     ]
    }
   ],
   "source": [
    "#Checking the sizes of the classes\n",
    "unique, counts = np.unique(n_target, return_counts=True)\n",
    "print(np.asarray((unique, counts)).T)"
   ]
  },
  {
   "cell_type": "markdown",
   "metadata": {},
   "source": [
    "As we did with the target vector, we have to join \"both classes features matrices\". As we are dealing with a Pandas DataFrame, we can do that with the following line of code:"
   ]
  },
  {
   "cell_type": "code",
   "execution_count": 41,
   "metadata": {},
   "outputs": [],
   "source": [
    "#Join class 0's feature matrix with new_class1's feature matrix\n",
    "n_features = np.vstack((features2.iloc[class0, :], features2.iloc[new_class1, :]))"
   ]
  },
  {
   "cell_type": "markdown",
   "metadata": {},
   "source": [
    "## Modeling"
   ]
  },
  {
   "cell_type": "markdown",
   "metadata": {},
   "source": [
    "For this task, we are going to use the Logistic Regression, K-NN Classifier and the Random Forest Classifier. The training steps are done in exactly the same way as in the regression task, but as we are dealing with classification, we have to change the evaluation metric."
   ]
  },
  {
   "cell_type": "code",
   "execution_count": 42,
   "metadata": {},
   "outputs": [],
   "source": [
    "from sklearn.linear_model import LogisticRegression\n",
    "from sklearn.neighbors import KNeighborsClassifier\n",
    "from sklearn.ensemble import RandomForestClassifier"
   ]
  },
  {
   "cell_type": "code",
   "execution_count": 43,
   "metadata": {},
   "outputs": [],
   "source": [
    "Xtrain, Xtest, ytrain, ytest = train_test_split(features2, target2, test_size = 0.30, random_state = 97)"
   ]
  },
  {
   "cell_type": "code",
   "execution_count": 44,
   "metadata": {},
   "outputs": [],
   "source": [
    "Xtrain = scaler.fit_transform(Xtrain)\n",
    "Xtest  = scaler.fit_transform(Xtest)"
   ]
  },
  {
   "cell_type": "code",
   "execution_count": 45,
   "metadata": {},
   "outputs": [],
   "source": [
    "models = [LogisticRegression(solver = 'liblinear'),\n",
    "          KNeighborsClassifier(),\n",
    "          RandomForestClassifier(random_state = 97)]"
   ]
  },
  {
   "cell_type": "markdown",
   "metadata": {},
   "source": [
    "**Obs:** Solvers: 'lbfgs', 'sag' and 'saga' of LogisticRegression can only handle l2 penalty, so in order to do a grid search for the best penalty, we set 'liblinear' to be the solver."
   ]
  },
  {
   "cell_type": "code",
   "execution_count": 46,
   "metadata": {},
   "outputs": [
    {
     "name": "stdout",
     "output_type": "stream",
     "text": [
      "------------------------\n",
      "LogisticRegression\n",
      "Mean:  0.8795673231546199\n",
      "Standard Deviation:  0.009283719064534346\n",
      "------------------------\n",
      "KNeighborsClassifier\n",
      "Mean:  0.876958103430114\n",
      "Standard Deviation:  0.013971025393616953\n"
     ]
    },
    {
     "name": "stderr",
     "output_type": "stream",
     "text": [
      "D:\\Python\\lib\\site-packages\\sklearn\\ensemble\\forest.py:245: FutureWarning: The default value of n_estimators will change from 10 in version 0.20 to 100 in 0.22.\n",
      "  \"10 in version 0.20 to 100 in 0.22.\", FutureWarning)\n"
     ]
    },
    {
     "name": "stdout",
     "output_type": "stream",
     "text": [
      "------------------------\n",
      "RandomForestClassifier\n",
      "Mean:  0.8689884644167645\n",
      "Standard Deviation:  0.006979585482725951\n"
     ]
    }
   ],
   "source": [
    "for mod in models:\n",
    "    mod.fit(Xtrain, ytrain)\n",
    "    model = mod.__class__.__name__\n",
    "    \n",
    "    results = cross_val_score(mod, Xtrain, ytrain, scoring = 'f1', cv = 10)\n",
    "    \n",
    "    print('--'*12)\n",
    "    print(model)\n",
    "    print('Mean: ', np.mean(results))\n",
    "    print('Standard Deviation: ', np.std(results))"
   ]
  },
  {
   "cell_type": "markdown",
   "metadata": {},
   "source": [
    "The results were pretty close, but looking at both mean and standard deviation of f1-score, we choose the logistic classifier to go with.\n",
    "\n",
    "Now, let's search for the best hyperparameters:"
   ]
  },
  {
   "cell_type": "code",
   "execution_count": 47,
   "metadata": {},
   "outputs": [],
   "source": [
    "#LogisticRegression has 2 hyperparameters to find:\n",
    "grid = [{'penalty': ['l1', 'l2'],\n",
    "         'C': np.logspace(0, 4, 10)}]"
   ]
  },
  {
   "cell_type": "code",
   "execution_count": 48,
   "metadata": {},
   "outputs": [
    {
     "data": {
      "text/plain": [
       "GridSearchCV(cv=6, error_score='raise-deprecating',\n",
       "             estimator=LogisticRegression(C=1.0, class_weight=None, dual=False,\n",
       "                                          fit_intercept=True,\n",
       "                                          intercept_scaling=1, l1_ratio=None,\n",
       "                                          max_iter=100, multi_class='warn',\n",
       "                                          n_jobs=None, penalty='l2',\n",
       "                                          random_state=None, solver='liblinear',\n",
       "                                          tol=0.0001, verbose=0,\n",
       "                                          warm_start=False),\n",
       "             iid='warn', n_jobs=None,\n",
       "             param_grid=[{'C': array([1.00000000e+00, 2.78255940e+00, 7.74263683e+00, 2.15443469e+01,\n",
       "       5.99484250e+01, 1.66810054e+02, 4.64158883e+02, 1.29154967e+03,\n",
       "       3.59381366e+03, 1.00000000e+04]),\n",
       "                          'penalty': ['l1', 'l2']}],\n",
       "             pre_dispatch='2*n_jobs', refit=True, return_train_score=False,\n",
       "             scoring='f1', verbose=0)"
      ]
     },
     "execution_count": 48,
     "metadata": {},
     "output_type": "execute_result"
    }
   ],
   "source": [
    "LR_clf = LogisticRegression(solver = 'liblinear')\n",
    "\n",
    "GSearch = GridSearchCV(LR_clf, grid, cv = 6, scoring = 'f1')\n",
    "GSearch.fit(Xtrain, ytrain)"
   ]
  },
  {
   "cell_type": "markdown",
   "metadata": {},
   "source": [
    "So the best hyperparameters were:"
   ]
  },
  {
   "cell_type": "code",
   "execution_count": 49,
   "metadata": {},
   "outputs": [
    {
     "data": {
      "text/plain": [
       "{'C': 464.15888336127773, 'penalty': 'l1'}"
      ]
     },
     "execution_count": 49,
     "metadata": {},
     "output_type": "execute_result"
    }
   ],
   "source": [
    "GSearch.best_params_"
   ]
  },
  {
   "cell_type": "markdown",
   "metadata": {},
   "source": [
    "Now we can make some predictions and evaluate them:"
   ]
  },
  {
   "cell_type": "code",
   "execution_count": 50,
   "metadata": {},
   "outputs": [],
   "source": [
    "final_clf = GSearch.best_estimator_\n",
    "ypred = final_clf.predict(Xtest)"
   ]
  },
  {
   "cell_type": "code",
   "execution_count": 51,
   "metadata": {},
   "outputs": [
    {
     "name": "stdout",
     "output_type": "stream",
     "text": [
      "      Observed  Predicted\n",
      "0            1          1\n",
      "1            1          0\n",
      "2            1          1\n",
      "3            1          1\n",
      "4            0          1\n",
      "...        ...        ...\n",
      "1249         1          1\n",
      "1250         1          1\n",
      "1251         0          0\n",
      "1252         1          1\n",
      "1253         0          0\n",
      "\n",
      "[1254 rows x 2 columns]\n"
     ]
    }
   ],
   "source": [
    "ytest.reset_index(drop = True, inplace = True)\n",
    "print(pd.concat([ytest.rename('Observed'), pd.Series(ypred).rename('Predicted')], axis=1))"
   ]
  },
  {
   "cell_type": "code",
   "execution_count": 52,
   "metadata": {},
   "outputs": [
    {
     "data": {
      "text/plain": [
       "Text(30.5, 0.5, 'Observed')"
      ]
     },
     "execution_count": 52,
     "metadata": {},
     "output_type": "execute_result"
    },
    {
     "data": {
      "image/png": "[encoded data removed]",
      "text/plain": [
       "<Figure size 432x288 with 1 Axes>"
      ]
     },
     "metadata": {
      "needs_background": "light"
     },
     "output_type": "display_data"
    }
   ],
   "source": [
    "from sklearn.metrics import confusion_matrix\n",
    "cm = confusion_matrix(ytest, ypred)\n",
    "ax = sns.heatmap(cm, square = True, annot = True, cbar = False, cmap = 'Blues', fmt = 'g', \n",
    "            annot_kws  = {'size': 15})\n",
    "bottom, top = ax.get_ylim()\n",
    "ax.set_ylim(bottom + 0.5, top - 0.5)\n",
    "plt.xlabel('Predicted')\n",
    "plt.ylabel('Observed')"
   ]
  },
  {
   "cell_type": "markdown",
   "metadata": {},
   "source": [
    "Our Logistic classifier did reasonably well, classifying 1009 observation correctly out of 1254. This resulted in the following metrics:"
   ]
  },
  {
   "cell_type": "code",
   "execution_count": 53,
   "metadata": {},
   "outputs": [
    {
     "name": "stdout",
     "output_type": "stream",
     "text": [
      "The final f1_score was: 0.8556275780789628\n",
      "The Final Accuracy was: 0.8046251993620415\n"
     ]
    }
   ],
   "source": [
    "from sklearn.metrics import f1_score, accuracy_score\n",
    "\n",
    "print('The final f1_score was: {}'.format(f1_score(ytest, ypred)))\n",
    "print('The Final Accuracy was: {}'.format(accuracy_score(ytest, ypred)))"
   ]
  }
 ],
 "metadata": {
  "kernelspec": {
   "display_name": "Python 3",
   "language": "python",
   "name": "python3"
  },
  "language_info": {
   "codemirror_mode": {
    "name": "ipython",
    "version": 3
   },
   "file_extension": ".py",
   "mimetype": "text/x-python",
   "name": "python",
   "nbconvert_exporter": "python",
   "pygments_lexer": "ipython3",
   "version": "3.7.4"
  }
 },
 "nbformat": 4,
 "nbformat_minor": 2
}
